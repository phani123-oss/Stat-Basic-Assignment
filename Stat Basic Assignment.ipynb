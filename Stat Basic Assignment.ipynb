{
 "cells": [
  {
   "cell_type": "markdown",
   "id": "5af7e981-da20-4587-aeb5-36c149c8786c",
   "metadata": {},
   "source": [
    "Q1. What is Statistics?\n",
    "\n",
    "Statistics is the science of collecting, organising and analysing data by \n",
    "using different methods we have .\n",
    "Data: \"facts or pieces of data , the data in formate of recordings,captured,measured.\"\n",
    "There are two types of stats:\n",
    "1. Descriptive statistics\n",
    "2. Inferential statistics\n",
    "\n",
    "Descriptive: It consists of organising and summarising the data.\n",
    "Inferential: It consists of by using data you have to give conclusions by using different methods."
   ]
  },
  {
   "cell_type": "markdown",
   "id": "e42a7f58-8363-497c-a96e-c14bca96b965",
   "metadata": {},
   "source": [
    "Q2. Define the different types of statistics and give an example of when each type might be used.\n",
    "\n",
    "There are two types:  \n",
    "1. Descriptive   \n",
    "2. Inferential    \n",
    "Descriptive: It consists of organising and analysing data.\n",
    "--->Methods we have to use: Measure of centraltendency[ mean,median,mode]\n",
    "--->Measure of dispersion.[variance and standard deviation]\n",
    "\n",
    "Inferential : It consists of by using data we have to give conclusions.\n",
    "---> Methods we have to use : Z-test\n",
    "                              t-test etc...\n",
    "                              \n",
    "Example : Suppose there are some pepole goes to devotional trip with 50 members of different\n",
    "countries as one of the batch from 5 different batches.\n",
    "data = total : 50\n",
    "countries: [india(10),australia(15),usa(8),france(5),russia(12)]\n",
    "\n",
    "In the above line example we observe that , \n",
    "we have to calculate average no.of pepeole goes to trip[i.e., nothing but mean], which is Descriptive.\n",
    "we have to calculate Are the average no.of pepoles are more than different batches , which is inferential."
   ]
  },
  {
   "cell_type": "markdown",
   "id": "a67e4410-a308-401f-a642-1f9c995152a5",
   "metadata": {},
   "source": [
    "Q3. What are the different types of data and how do they differ from each other? Provide an example of\n",
    "each type of data.\n",
    "\n",
    "   There are two types of data:\n",
    "   1. Quntitative data \n",
    "   2. Qualitative data\n",
    "   \n",
    "   Quantitative is also called Numerical data, It again divided into 2 types.\n",
    "   1. Discrete data: It contains whole numbers.\n",
    "      Ex: no.of bank accounts we have.\n",
    "          no.of houses we have etc...\n",
    "   2. Continuous data: It have any value .\n",
    "      Ex: Height\n",
    "          Weight \n",
    "          Temperature etc...\n",
    "          \n",
    "   Qualitative is also called catageorical data, It again divided into 2 types .\n",
    "   1. Nominal: It have fixed size.\n",
    "      Ex: gender\n",
    "          blood group etc...\n",
    "   2. Ordinal: It have rank.\n",
    "      Ex: in the app rating system.         "
   ]
  },
  {
   "cell_type": "markdown",
   "id": "5e7d5352-255f-4c2e-8597-043001bef672",
   "metadata": {},
   "source": [
    "Q4. Categorise the following datasets with respect to quantitative and qualitative data types:\n",
    "(i) Grading in exam: A+, A, B+, B, C+, C, D, E\n",
    "(ii) Colour of mangoes: yellow, green, orange, red\n",
    "(iii) Height data of a class: [178.9, 179, 179.5, 176, 177.2, 178.3, 175.8,...]\n",
    "(iv) Number of mangoes exported by a farm: [500, 600, 478, 672, ...]\n",
    "\n",
    "\n",
    "(i) Grading in exam is Qualitative.\n",
    "(ii) Colour of mangoes is Qualitative.\n",
    "(iii) Height data of a class is Quantitative\n",
    "(iv) Number of mangoes exported by a farm is Quantitaive"
   ]
  },
  {
   "cell_type": "markdown",
   "id": "2830be2f-2e45-4640-ad62-4fcd7f3e8dd5",
   "metadata": {},
   "source": [
    "Q5. Explain the concept of levels of measurement and give an example of a variable for each level.\n",
    "\n",
    "Scale of measurement : It tells about which type of scale we use to analyse the data.there are 4 types of scale of measurement.\n",
    "1. Nominal scale data.\n",
    "2. ordinal scale data.\n",
    "3. Interval scale data.\n",
    "4. Ratio scale data.\n",
    "\n",
    "1. Nominal scale data : It is Qualitative/Catageorical type.\n",
    "                        Ex : gender , color\n",
    "                        order doesn't matter.\n",
    "2. ordinal scale data : It is Qualitative/Catageorical type.\n",
    "                        Ranking and order matters.\n",
    "                        Difference cannot be measures \n",
    "                        Ex: Qualification\n",
    "3. Interval scale data : Ranking and order matters\n",
    "                         Difference can be measured excluding ratio.\n",
    "                         Doesn't have 0 starting value.\n",
    "                         Ex: temperature.\n",
    "4. Ratio scale data    : Ranking and order matters .\n",
    "                         Difference and ratio measursed\n",
    "                         Does have a 0 starting value.\n",
    "                         The direction of change in numerical values is essential,\n",
    "                         e.g., 14 to 24 indicates an increase, while 30 to 17 indicates                             a decrease.\n",
    "                         The distance between the values is the same, \n",
    "                         e.g. the distance between 3 and 5 and 7 and 9 is the same.\n",
    "                         Ex: marks of students.\n",
    "                        "
   ]
  },
  {
   "cell_type": "markdown",
   "id": "91598221-47e7-472d-8d15-bf0ba0fbb557",
   "metadata": {},
   "source": [
    "Q6. Why is it important to understand the level of measurement when analyzing data? Provide an\n",
    "example to illustrate your answer.\n",
    "\n",
    "The level of measurement helps us to how we analyse the data , what statistical methods we use ,\n",
    "what information the data give us."
   ]
  },
  {
   "cell_type": "markdown",
   "id": "b4129c7a-1b4b-46e0-b334-a6f1e689a906",
   "metadata": {},
   "source": [
    "Q7. How nominal data type is different from ordinal data type.\n",
    "\n",
    "1. Nominal scale data : It is Qualitative/Catageorical type.\n",
    "                        Ex : gender , color\n",
    "                        order doesn't matter.\n",
    "2. ordinal scale data : It is Qualitative/Catageorical type.\n",
    "                        Ranking and order matters.\n",
    "                        Difference cannot be measures \n",
    "                        Ex: Qualification\n",
    "In both above we observer that both are qualitative type there is a difference in ranking.\n",
    "we should give ranking in case of ordinal while in case of nominal we don't have chance\n",
    "to give ranking."
   ]
  },
  {
   "cell_type": "markdown",
   "id": "a040b755-4bd4-4080-9557-bbb235e6a936",
   "metadata": {},
   "source": [
    "Q8. Which type of plot can be used to display data in terms of range?\n",
    "\n",
    "It dependes on the conditions of data . We use histogram , bar,pie charts etc.\n",
    "Histogram looks like a bar .\n"
   ]
  },
  {
   "cell_type": "markdown",
   "id": "f05c71fb-3597-4962-be10-b7bfa51a0b5e",
   "metadata": {},
   "source": [
    "Q9. Describe the difference between descriptive and inferential statistics. Give an example of each\n",
    "type of statistics and explain how they are used.\n",
    "\n",
    "There are two types:  \n",
    "1. Descriptive   \n",
    "2. Inferential    \n",
    "Descriptive: It consists of organising and analysing data.\n",
    "--->Methods we have to use: Measure of centraltendency[ mean,median,mode]\n",
    "--->Measure of dispersion.[variance and standard deviation]\n",
    "\n",
    "Inferential : It consists of by using data we have to give conclusions.\n",
    "---> Methods we have to use : Z-test\n",
    "                              t-test etc...\n",
    "                              \n",
    "Example : Suppose there are some pepole goes to devotional trip with 50 members of different\n",
    "countries as one of the batch from 5 different batches.\n",
    "data = total : 50\n",
    "countries: [india(10),australia(15),usa(8),france(5),russia(12)]\n",
    "\n",
    "In the above line example we observe that , \n",
    "we have to calculate average no.of pepeole goes to trip[i.e., nothing but mean], which is Descriptive.\n",
    "we have to calculate Are the average no.of pepoles are more than different batches , which is inferential."
   ]
  },
  {
   "cell_type": "markdown",
   "id": "74f02d04-4adc-4e6c-9258-7518c49fc5a2",
   "metadata": {},
   "source": [
    "Q10. What are some common measures of central tendency and variability used in statistics? Explain\n",
    "how each measure can be used to describe a dataset.\n",
    "\n",
    "Measures of central tendency is a Descriptive statistics,it gives sigle value of entire data set.\n",
    "By using Measures of central tendency we calculate mean,median,mode.\n",
    "Mean : It gives average value of the data set.\n",
    "Median : Median is the middle value of the dataset in which the dataset is arranged in the ascending order or in descending order. When the                dataset contains an even number of values, then the median value of the dataset can be found by taking the mean of the middle two                values.\n",
    "Mode : "
   ]
  }
 ],
 "metadata": {
  "kernelspec": {
   "display_name": "Python 3 (ipykernel)",
   "language": "python",
   "name": "python3"
  },
  "language_info": {
   "codemirror_mode": {
    "name": "ipython",
    "version": 3
   },
   "file_extension": ".py",
   "mimetype": "text/x-python",
   "name": "python",
   "nbconvert_exporter": "python",
   "pygments_lexer": "ipython3",
   "version": "3.10.8"
  }
 },
 "nbformat": 4,
 "nbformat_minor": 5
}
